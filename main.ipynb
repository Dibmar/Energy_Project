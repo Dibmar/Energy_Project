{
 "metadata": {
  "language_info": {
   "codemirror_mode": {
    "name": "ipython",
    "version": 3
   },
   "file_extension": ".py",
   "mimetype": "text/x-python",
   "name": "python",
   "nbconvert_exporter": "python",
   "pygments_lexer": "ipython3",
   "version": "3.9.2"
  },
  "orig_nbformat": 2,
  "kernelspec": {
   "name": "python392jvsc74a57bd0fa281aee82f4477ae52abf752de28cd069eade5886616c2da4ed23d36079b5d2",
   "display_name": "Python 3.9.2 64-bit"
  },
  "metadata": {
   "interpreter": {
    "hash": "fa281aee82f4477ae52abf752de28cd069eade5886616c2da4ed23d36079b5d2"
   }
  }
 },
 "nbformat": 4,
 "nbformat_minor": 2,
 "cells": [
  {
   "source": [
    "# Project Energy\n",
    "This project is a short project that incorporates Exploratory Data Analysis (EDA) and Machine Learning. Its aim is to analize the evolution of coal, hydro electric energy and nuclear energy production in relation to the globe. From 1985 up to the present day. And to predict the use of nuclear power using Machine Learning (ML).\n",
    "\n",
    "As a secondary objective this project should be able to function as independantly as posible, requiring a minimum input from the data scientist to work. As such, the settings.json file acts as a config file, allowing the user to introduce as many dataframes as desired, set the names for storing and customizing the parent directory route.\n",
    "\n",
    "## Estructure\n",
    "The directory structure for this project is as follows:\n",
    "\n",
    "    - Energy_Project\n",
    "        * main.ipynb: The current file. It contains the instructions, requirements and graphs of the project.\n",
    "\n",
    "        - Programs\n",
    "            * df_cleaner.py: cleans the data, plots it and sclices it for ML, using the src folder\n",
    "            \n",
    "            - src\n",
    "                * modeler.py: cotains the class for ML\n",
    "                * settings_reader.py: reads \"settings.json\"\n",
    "                * settings.json: this json file contains the sum of all customizable parameters of the program. The rest is automatic\n",
    "                * titan_class.py: contains the class for EDA\n",
    "                * use_plotly.py: contains plotly functions for interactive graphs\n",
    "\n",
    "\n",
    "## Requirements\n",
    "Version listed or higher:\n",
    "\n",
    "    numpy==1.20.1\n",
    "    pandas==1.2.3\n",
    "    plotly==4.14.3\n",
    "    plotly-express==0.4.1\n",
    "    scikit-learn==0.24.1\n",
    "    scipy==1.6.2\n",
    "    seaborn==0.11.1\n",
    "    sklearn==0.0\n",
    "    statsmodels==0.12.2\n",
    "    xgboost==1.3.3"
   ],
   "cell_type": "markdown",
   "metadata": {}
  },
  {
   "cell_type": "code",
   "execution_count": 1,
   "metadata": {},
   "outputs": [],
   "source": [
    "# This cell executes all the requirements installation\n",
    "# !pip install numpy\n",
    "# !pip install pandas\n",
    "# !pip install plotly\n",
    "# !pip install plotly_express\n",
    "# !pip install sklearn\n",
    "# !pip install scipy\n",
    "# !pip install seaborn\n",
    "# !pip install skicit\n",
    "# !pip install statsmodels\n",
    "# !pip intall xgboost"
   ]
  },
  {
   "source": [
    "## Cleaning the data\n",
    "Using a custom made Python object, named titan_class in honour of the Titanic.csv file, the data will be automatically cleaned."
   ],
   "cell_type": "markdown",
   "metadata": {}
  },
  {
   "cell_type": "code",
   "execution_count": 11,
   "metadata": {},
   "outputs": [
    {
     "output_type": "stream",
     "name": "stdout",
     "text": [
      "['F:\\\\Data\\\\Energy\\\\electricity_generation_total.csv', 'F:\\\\Data\\\\Energy\\\\hydro_power_generation_total.csv', 'F:\\\\Data\\\\Energy\\\\nuclear_power_generation_total.csv']\n",
      "\t\tGeneral info on the df:\n",
      "Shape\n",
      "     Shape    \n",
      "0     Rows  77\n",
      "1  Columns  36\n",
      "------------------ \n",
      "\n",
      "Data type and NaNs\n",
      "    Columns Data type  NaNs in column  Percentage of NaNs\n",
      "0   country    object               0                 0.0\n",
      "1      1985   float64               3                 3.9\n",
      "2      1986   float64               3                 3.9\n",
      "3      1987   float64               3                 3.9\n",
      "4      1988   float64               3                 3.9\n",
      "5      1989   float64               3                 3.9\n",
      "6      1990   float64               0                 0.0\n",
      "7      1991   float64               0                 0.0\n",
      "8      1992   float64               0                 0.0\n",
      "9      1993   float64               0                 0.0\n",
      "10     1994   float64               0                 0.0\n",
      "11     1995   float64               0                 0.0\n",
      "12     1996   float64               0                 0.0\n",
      "13     1997   float64               0                 0.0\n",
      "14     1998   float64               0                 0.0\n",
      "15     1999   float64               0                 0.0\n",
      "16     2000   float64               0                 0.0\n",
      "17     2001   float64               0                 0.0\n",
      "18     2002   float64               0                 0.0\n",
      "19     2003   float64               0                 0.0\n",
      "20     2004   float64               0                 0.0\n",
      "21     2005   float64               0                 0.0\n",
      "22     2006   float64               0                 0.0\n",
      "23     2007   float64               0                 0.0\n",
      "24     2008   float64               0                 0.0\n",
      "25     2009   float64               0                 0.0\n",
      "26     2010   float64               0                 0.0\n",
      "27     2011   float64               0                 0.0\n",
      "28     2012   float64               0                 0.0\n",
      "29     2013   float64               0                 0.0\n",
      "30     2014   float64               0                 0.0\n",
      "31     2015   float64               0                 0.0\n",
      "32     2016   float64               0                 0.0\n",
      "33     2017   float64               0                 0.0\n",
      "34     2018   float64               0                 0.0\n",
      "35     2019   float64               0                 0.0\n",
      "Filling data...\n",
      "\t\tGeneral info on the df:\n",
      "Shape\n",
      "     Shape    \n",
      "0     Rows  77\n",
      "1  Columns  36\n",
      "------------------ \n",
      "\n",
      "Data type and NaNs\n",
      "    Columns Data type  NaNs in column  Percentage of NaNs\n",
      "0   country    object               0                 0.0\n",
      "1      1985   float64               0                 0.0\n",
      "2      1986   float64               0                 0.0\n",
      "3      1987   float64               0                 0.0\n",
      "4      1988   float64               0                 0.0\n",
      "5      1989   float64               0                 0.0\n",
      "6      1990   float64               0                 0.0\n",
      "7      1991   float64               0                 0.0\n",
      "8      1992   float64               0                 0.0\n",
      "9      1993   float64               0                 0.0\n",
      "10     1994   float64               0                 0.0\n",
      "11     1995   float64               0                 0.0\n",
      "12     1996   float64               0                 0.0\n",
      "13     1997   float64               0                 0.0\n",
      "14     1998   float64               0                 0.0\n",
      "15     1999   float64               0                 0.0\n",
      "16     2000   float64               0                 0.0\n",
      "17     2001   float64               0                 0.0\n",
      "18     2002   float64               0                 0.0\n",
      "19     2003   float64               0                 0.0\n",
      "20     2004   float64               0                 0.0\n",
      "21     2005   float64               0                 0.0\n",
      "22     2006   float64               0                 0.0\n",
      "23     2007   float64               0                 0.0\n",
      "24     2008   float64               0                 0.0\n",
      "25     2009   float64               0                 0.0\n",
      "26     2010   float64               0                 0.0\n",
      "27     2011   float64               0                 0.0\n",
      "28     2012   float64               0                 0.0\n",
      "29     2013   float64               0                 0.0\n",
      "30     2014   float64               0                 0.0\n",
      "31     2015   float64               0                 0.0\n",
      "32     2016   float64               0                 0.0\n",
      "33     2017   float64               0                 0.0\n",
      "34     2018   float64               0                 0.0\n",
      "35     2019   float64               0                 0.0\n",
      "Setting new index by country...\n",
      "The file will be stored as \"electricity_generation.csv\"  in Output...\n",
      "\t\tGeneral info on the df:\n",
      "Shape\n",
      "     Shape     \n",
      "0     Rows  118\n",
      "1  Columns   53\n",
      "------------------ \n",
      "\n",
      "Data type and NaNs\n",
      "    Columns Data type  NaNs in column  Percentage of NaNs\n",
      "0   country    object               0                0.00\n",
      "1      1960   float64              94               79.66\n",
      "2      1961   float64              94               79.66\n",
      "3      1962   float64              94               79.66\n",
      "4      1963   float64              94               79.66\n",
      "5      1964   float64              94               79.66\n",
      "6      1965   float64              93               78.81\n",
      "7      1966   float64              93               78.81\n",
      "8      1967   float64              93               78.81\n",
      "9      1968   float64              93               78.81\n",
      "10     1969   float64              93               78.81\n",
      "11     1970   float64              93               78.81\n",
      "12     1971   float64              30               25.42\n",
      "13     1972   float64              29               24.58\n",
      "14     1973   float64              28               23.73\n",
      "15     1974   float64              28               23.73\n",
      "16     1975   float64              28               23.73\n",
      "17     1976   float64              28               23.73\n",
      "18     1977   float64              28               23.73\n",
      "19     1978   float64              28               23.73\n",
      "20     1979   float64              28               23.73\n",
      "21     1980   float64              28               23.73\n",
      "22     1981   float64              27               22.88\n",
      "23     1982   float64              27               22.88\n",
      "24     1983   float64              27               22.88\n",
      "25     1984   float64              27               22.88\n",
      "26     1985   float64              26               22.03\n",
      "27     1986   float64              25               21.19\n",
      "28     1987   float64              25               21.19\n",
      "29     1988   float64              25               21.19\n",
      "30     1989   float64              25               21.19\n",
      "31     1990   float64               6                5.08\n",
      "32     1991   float64               5                4.24\n",
      "33     1992   float64               4                3.39\n",
      "34     1993   float64               4                3.39\n",
      "35     1994   float64               4                3.39\n",
      "36     1995   float64               4                3.39\n",
      "37     1996   float64               4                3.39\n",
      "38     1997   float64               3                2.54\n",
      "39     1998   float64               3                2.54\n",
      "40     1999   float64               3                2.54\n",
      "41     2000   float64               3                2.54\n",
      "42     2001   float64               3                2.54\n",
      "43     2002   float64               1                0.85\n",
      "44     2003   float64               1                0.85\n",
      "45     2004   float64               1                0.85\n",
      "46     2005     int64               0                0.00\n",
      "47     2006   float64               1                0.85\n",
      "48     2007   float64               1                0.85\n",
      "49     2008   float64               1                0.85\n",
      "50     2009   float64               1                0.85\n",
      "51     2010   float64               1                0.85\n",
      "52     2011   float64              84               71.19\n",
      "Filling data...\n",
      "\t\tGeneral info on the df:\n",
      "Shape\n",
      "     Shape     \n",
      "0     Rows  118\n",
      "1  Columns   53\n",
      "------------------ \n",
      "\n",
      "Data type and NaNs\n",
      "    Columns Data type  NaNs in column  Percentage of NaNs\n",
      "0   country    object               0                 0.0\n",
      "1      1960   float64               0                 0.0\n",
      "2      1961   float64               0                 0.0\n",
      "3      1962   float64               0                 0.0\n",
      "4      1963   float64               0                 0.0\n",
      "5      1964   float64               0                 0.0\n",
      "6      1965   float64               0                 0.0\n",
      "7      1966   float64               0                 0.0\n",
      "8      1967   float64               0                 0.0\n",
      "9      1968   float64               0                 0.0\n",
      "10     1969   float64               0                 0.0\n",
      "11     1970   float64               0                 0.0\n",
      "12     1971   float64               0                 0.0\n",
      "13     1972   float64               0                 0.0\n",
      "14     1973   float64               0                 0.0\n",
      "15     1974   float64               0                 0.0\n",
      "16     1975   float64               0                 0.0\n",
      "17     1976   float64               0                 0.0\n",
      "18     1977   float64               0                 0.0\n",
      "19     1978   float64               0                 0.0\n",
      "20     1979   float64               0                 0.0\n",
      "21     1980   float64               0                 0.0\n",
      "22     1981   float64               0                 0.0\n",
      "23     1982   float64               0                 0.0\n",
      "24     1983   float64               0                 0.0\n",
      "25     1984   float64               0                 0.0\n",
      "26     1985   float64               0                 0.0\n",
      "27     1986   float64               0                 0.0\n",
      "28     1987   float64               0                 0.0\n",
      "29     1988   float64               0                 0.0\n",
      "30     1989   float64               0                 0.0\n",
      "31     1990   float64               0                 0.0\n",
      "32     1991   float64               0                 0.0\n",
      "33     1992   float64               0                 0.0\n",
      "34     1993   float64               0                 0.0\n",
      "35     1994   float64               0                 0.0\n",
      "36     1995   float64               0                 0.0\n",
      "37     1996   float64               0                 0.0\n",
      "38     1997   float64               0                 0.0\n",
      "39     1998   float64               0                 0.0\n",
      "40     1999   float64               0                 0.0\n",
      "41     2000   float64               0                 0.0\n",
      "42     2001   float64               0                 0.0\n",
      "43     2002   float64               0                 0.0\n",
      "44     2003   float64               0                 0.0\n",
      "45     2004   float64               0                 0.0\n",
      "46     2005     int64               0                 0.0\n",
      "47     2006   float64               0                 0.0\n",
      "48     2007   float64               0                 0.0\n",
      "49     2008   float64               0                 0.0\n",
      "50     2009   float64               0                 0.0\n",
      "51     2010   float64               0                 0.0\n",
      "52     2011   float64               0                 0.0\n",
      "Setting new index by country...\n",
      "Sclicing dataframe...\n",
      "Multiplying by 11630\n",
      "The file will be stored as \"hydro_electric_engergy_sliced.csv\"  in Output...\n",
      "\t\tGeneral info on the df:\n",
      "Shape\n",
      "     Shape     \n",
      "0     Rows  134\n",
      "1  Columns   53\n",
      "------------------ \n",
      "\n",
      "Data type and NaNs\n",
      "    Columns Data type  NaNs in column  Percentage of NaNs\n",
      "0   country    object               0                0.00\n",
      "1      1960   float64             109               81.34\n",
      "2      1961   float64             109               81.34\n",
      "3      1962   float64             109               81.34\n",
      "4      1963   float64             109               81.34\n",
      "5      1964   float64             109               81.34\n",
      "6      1965   float64             109               81.34\n",
      "7      1966   float64             108               80.60\n",
      "8      1967   float64             108               80.60\n",
      "9      1968   float64             108               80.60\n",
      "10     1969   float64             108               80.60\n",
      "11     1970   float64             108               80.60\n",
      "12     1971   float64              27               20.15\n",
      "13     1972   float64              26               19.40\n",
      "14     1973   float64              26               19.40\n",
      "15     1974   float64              26               19.40\n",
      "16     1975   float64              26               19.40\n",
      "17     1976   float64              26               19.40\n",
      "18     1977   float64              26               19.40\n",
      "19     1978   float64              26               19.40\n",
      "20     1979   float64              26               19.40\n",
      "21     1980   float64              26               19.40\n",
      "22     1981   float64              25               18.66\n",
      "23     1982   float64              25               18.66\n",
      "24     1983   float64              25               18.66\n",
      "25     1984   float64              25               18.66\n",
      "26     1985   float64              24               17.91\n",
      "27     1986   float64              24               17.91\n",
      "28     1987   float64              24               17.91\n",
      "29     1988   float64              24               17.91\n",
      "30     1989   float64              24               17.91\n",
      "31     1990   float64               4                2.99\n",
      "32     1991   float64               3                2.24\n",
      "33     1992   float64               2                1.49\n",
      "34     1993   float64               2                1.49\n",
      "35     1994   float64               2                1.49\n",
      "36     1995   float64               1                0.75\n",
      "37     1996   float64               1                0.75\n",
      "38     1997   float64               1                0.75\n",
      "39     1998   float64               1                0.75\n",
      "40     1999   float64               1                0.75\n",
      "41     2000   float64               1                0.75\n",
      "42     2001   float64               1                0.75\n",
      "43     2002   float64               1                0.75\n",
      "44     2003   float64               1                0.75\n",
      "45     2004   float64               1                0.75\n",
      "46     2005     int64               0                0.00\n",
      "47     2006     int64               0                0.00\n",
      "48     2007     int64               0                0.00\n",
      "49     2008     int64               0                0.00\n",
      "50     2009     int64               0                0.00\n",
      "51     2010     int64               0                0.00\n",
      "52     2011   float64             100               74.63\n",
      "Filling data...\n",
      "\t\tGeneral info on the df:\n",
      "Shape\n",
      "     Shape     \n",
      "0     Rows  134\n",
      "1  Columns   53\n",
      "------------------ \n",
      "\n",
      "Data type and NaNs\n",
      "    Columns Data type  NaNs in column  Percentage of NaNs\n",
      "0   country    object               0                 0.0\n",
      "1      1960   float64               0                 0.0\n",
      "2      1961   float64               0                 0.0\n",
      "3      1962   float64               0                 0.0\n",
      "4      1963   float64               0                 0.0\n",
      "5      1964   float64               0                 0.0\n",
      "6      1965   float64               0                 0.0\n",
      "7      1966   float64               0                 0.0\n",
      "8      1967   float64               0                 0.0\n",
      "9      1968   float64               0                 0.0\n",
      "10     1969   float64               0                 0.0\n",
      "11     1970   float64               0                 0.0\n",
      "12     1971   float64               0                 0.0\n",
      "13     1972   float64               0                 0.0\n",
      "14     1973   float64               0                 0.0\n",
      "15     1974   float64               0                 0.0\n",
      "16     1975   float64               0                 0.0\n",
      "17     1976   float64               0                 0.0\n",
      "18     1977   float64               0                 0.0\n",
      "19     1978   float64               0                 0.0\n",
      "20     1979   float64               0                 0.0\n",
      "21     1980   float64               0                 0.0\n",
      "22     1981   float64               0                 0.0\n",
      "23     1982   float64               0                 0.0\n",
      "24     1983   float64               0                 0.0\n",
      "25     1984   float64               0                 0.0\n",
      "26     1985   float64               0                 0.0\n",
      "27     1986   float64               0                 0.0\n",
      "28     1987   float64               0                 0.0\n",
      "29     1988   float64               0                 0.0\n",
      "30     1989   float64               0                 0.0\n",
      "31     1990   float64               0                 0.0\n",
      "32     1991   float64               0                 0.0\n",
      "33     1992   float64               0                 0.0\n",
      "34     1993   float64               0                 0.0\n",
      "35     1994   float64               0                 0.0\n",
      "36     1995   float64               0                 0.0\n",
      "37     1996   float64               0                 0.0\n",
      "38     1997   float64               0                 0.0\n",
      "39     1998   float64               0                 0.0\n",
      "40     1999   float64               0                 0.0\n",
      "41     2000   float64               0                 0.0\n",
      "42     2001   float64               0                 0.0\n",
      "43     2002   float64               0                 0.0\n",
      "44     2003   float64               0                 0.0\n",
      "45     2004   float64               0                 0.0\n",
      "46     2005     int64               0                 0.0\n",
      "47     2006     int64               0                 0.0\n",
      "48     2007     int64               0                 0.0\n",
      "49     2008     int64               0                 0.0\n",
      "50     2009     int64               0                 0.0\n",
      "51     2010     int64               0                 0.0\n",
      "52     2011   float64               0                 0.0\n",
      "Setting new index by country...\n",
      "Sclicing dataframe...\n",
      "Multiplying by 11630\n",
      "The file will be stored as \"nuclear_engergy_sliced.csv\"  in Output...\n"
     ]
    }
   ],
   "source": [
    "%run \"F:\\Python\\My_Git\\Energy_Project\\Programs\\df_cleaner.py\""
   ]
  },
  {
   "source": [
    "## Plotting of the data\n",
    "The data is now cleaned and ready to be represented using the plotly express library. This will result in an interactive graph that will show the evolution of the country chosen for filtering (Spain), which is listed on the settings.json file."
   ],
   "cell_type": "markdown",
   "metadata": {}
  },
  {
   "cell_type": "code",
   "execution_count": 10,
   "metadata": {},
   "outputs": [
    {
     "output_type": "stream",
     "name": "stdout",
     "text": [
      "Extracting paths...\nF:\\Python\\My_Git\\Energy_Project\\Programs\\Output\\electricity_generation.csv\n---\nF:\\Python\\My_Git\\Energy_Project\\Programs\\Output\\hydro_electric_engergy_sliced.csv\n---\nF:\\Python\\My_Git\\Energy_Project\\Programs\\Output\\nuclear_engergy_sliced.csv\n---\n\nCountry chosen for filtering: Spain\n"
     ]
    },
    {
     "output_type": "display_data",
     "data": {
      "application/vnd.plotly.v1+json": {
       "config": {
        "plotlyServerURL": "https://plot.ly"
       },
       "data": [
        {
         "hovertemplate": "variable=Total production<br>index=%{x}<br>value=%{y}<extra></extra>",
         "legendgroup": "Total production",
         "line": {
          "color": "#636efa",
          "dash": "solid"
         },
         "mode": "lines",
         "name": "Total production",
         "orientation": "v",
         "showlegend": true,
         "type": "scatter",
         "x": [
          "1985",
          "1986",
          "1987",
          "1988",
          "1989",
          "1990",
          "1991",
          "1992",
          "1993",
          "1994",
          "1995",
          "1996",
          "1997",
          "1998",
          "1999",
          "2000",
          "2001",
          "2002",
          "2003",
          "2004",
          "2005",
          "2006",
          "2007",
          "2008",
          "2009",
          "2010",
          "2011",
          "2012",
          "2013",
          "2014",
          "2015",
          "2016",
          "2017",
          "2018",
          "2019"
         ],
         "xaxis": "x",
         "y": [
          127000000000,
          129000000000,
          133000000000,
          139000000000,
          147000000000,
          152000000000,
          156000000000,
          159000000000,
          157000000000,
          162000000000,
          167000000000,
          174000000000,
          190000000000,
          195000000000,
          208000000000,
          224000000000,
          236000000000,
          245000000000,
          261000000000,
          280000000000,
          294000000000,
          299000000000,
          305000000000,
          314000000000,
          296000000000,
          300000000000,
          292000000000,
          298000000000,
          285000000000,
          279000000000,
          281000000000,
          275000000000,
          276000000000,
          274000000000,
          276000000000
         ],
         "yaxis": "y"
        },
        {
         "hovertemplate": "variable=Nuclear energy<br>index=%{x}<br>value=%{y}<extra></extra>",
         "legendgroup": "Nuclear energy",
         "line": {
          "color": "#EF553B",
          "dash": "solid"
         },
         "mode": "lines",
         "name": "Nuclear energy",
         "orientation": "v",
         "showlegend": true,
         "type": "scatter",
         "x": [
          "1985",
          "1986",
          "1987",
          "1988",
          "1989",
          "1990",
          "1991",
          "1992",
          "1993",
          "1994",
          "1995",
          "1996",
          "1997",
          "1998",
          "1999",
          "2000",
          "2001",
          "2002",
          "2003",
          "2004",
          "2005",
          "2006",
          "2007",
          "2008",
          "2009",
          "2010",
          "2011",
          "2012",
          "2013",
          "2014",
          "2015",
          "2016",
          "2017",
          "2018",
          "2019"
         ],
         "xaxis": "x",
         "y": [
          31284700000,
          26516400000,
          27446800000,
          35238900000,
          19305800000,
          25469700000,
          27330500000,
          18956900000,
          24423000000,
          28144600000,
          23143700000,
          39774600000,
          34773700000,
          33959600000,
          22911100000,
          29540200000,
          41053900000,
          22911100000,
          41053900000,
          31633600000,
          17910200000,
          25934900000,
          27214200000,
          23492600000,
          26283800000,
          42333200000,
          30586900000,
          null,
          null,
          null,
          null,
          null,
          null,
          null,
          null
         ],
         "yaxis": "y"
        },
        {
         "hovertemplate": "variable=Hydro-electric energy<br>index=%{x}<br>value=%{y}<extra></extra>",
         "legendgroup": "Hydro-electric energy",
         "line": {
          "color": "#00cc96",
          "dash": "solid"
         },
         "mode": "lines",
         "name": "Hydro-electric energy",
         "orientation": "v",
         "showlegend": true,
         "type": "scatter",
         "x": [
          "1985",
          "1986",
          "1987",
          "1988",
          "1989",
          "1990",
          "1991",
          "1992",
          "1993",
          "1994",
          "1995",
          "1996",
          "1997",
          "1998",
          "1999",
          "2000",
          "2001",
          "2002",
          "2003",
          "2004",
          "2005",
          "2006",
          "2007",
          "2008",
          "2009",
          "2010",
          "2011",
          "2012",
          "2013",
          "2014",
          "2015",
          "2016",
          "2017",
          "2018",
          "2019"
         ],
         "xaxis": "x",
         "y": [
          28028300000,
          37448600000,
          41286500000,
          50474200000,
          56172900000,
          54312100000,
          55591400000,
          55824000000,
          56056600000,
          55358800000,
          55475100000,
          56289200000,
          55358800000,
          58964100000,
          58847800000,
          62220500000,
          63732400000,
          63034600000,
          61871600000,
          63616100000,
          57568500000,
          60127100000,
          55126200000,
          58964100000,
          52800200000,
          61987900000,
          57684800000,
          null,
          null,
          null,
          null,
          null,
          null,
          null,
          null
         ],
         "yaxis": "y"
        }
       ],
       "layout": {
        "legend": {
         "title": {
          "text": "variable"
         },
         "tracegroupgap": 0
        },
        "template": {
         "data": {
          "bar": [
           {
            "error_x": {
             "color": "#2a3f5f"
            },
            "error_y": {
             "color": "#2a3f5f"
            },
            "marker": {
             "line": {
              "color": "#E5ECF6",
              "width": 0.5
             }
            },
            "type": "bar"
           }
          ],
          "barpolar": [
           {
            "marker": {
             "line": {
              "color": "#E5ECF6",
              "width": 0.5
             }
            },
            "type": "barpolar"
           }
          ],
          "carpet": [
           {
            "aaxis": {
             "endlinecolor": "#2a3f5f",
             "gridcolor": "white",
             "linecolor": "white",
             "minorgridcolor": "white",
             "startlinecolor": "#2a3f5f"
            },
            "baxis": {
             "endlinecolor": "#2a3f5f",
             "gridcolor": "white",
             "linecolor": "white",
             "minorgridcolor": "white",
             "startlinecolor": "#2a3f5f"
            },
            "type": "carpet"
           }
          ],
          "choropleth": [
           {
            "colorbar": {
             "outlinewidth": 0,
             "ticks": ""
            },
            "type": "choropleth"
           }
          ],
          "contour": [
           {
            "colorbar": {
             "outlinewidth": 0,
             "ticks": ""
            },
            "colorscale": [
             [
              0,
              "#0d0887"
             ],
             [
              0.1111111111111111,
              "#46039f"
             ],
             [
              0.2222222222222222,
              "#7201a8"
             ],
             [
              0.3333333333333333,
              "#9c179e"
             ],
             [
              0.4444444444444444,
              "#bd3786"
             ],
             [
              0.5555555555555556,
              "#d8576b"
             ],
             [
              0.6666666666666666,
              "#ed7953"
             ],
             [
              0.7777777777777778,
              "#fb9f3a"
             ],
             [
              0.8888888888888888,
              "#fdca26"
             ],
             [
              1,
              "#f0f921"
             ]
            ],
            "type": "contour"
           }
          ],
          "contourcarpet": [
           {
            "colorbar": {
             "outlinewidth": 0,
             "ticks": ""
            },
            "type": "contourcarpet"
           }
          ],
          "heatmap": [
           {
            "colorbar": {
             "outlinewidth": 0,
             "ticks": ""
            },
            "colorscale": [
             [
              0,
              "#0d0887"
             ],
             [
              0.1111111111111111,
              "#46039f"
             ],
             [
              0.2222222222222222,
              "#7201a8"
             ],
             [
              0.3333333333333333,
              "#9c179e"
             ],
             [
              0.4444444444444444,
              "#bd3786"
             ],
             [
              0.5555555555555556,
              "#d8576b"
             ],
             [
              0.6666666666666666,
              "#ed7953"
             ],
             [
              0.7777777777777778,
              "#fb9f3a"
             ],
             [
              0.8888888888888888,
              "#fdca26"
             ],
             [
              1,
              "#f0f921"
             ]
            ],
            "type": "heatmap"
           }
          ],
          "heatmapgl": [
           {
            "colorbar": {
             "outlinewidth": 0,
             "ticks": ""
            },
            "colorscale": [
             [
              0,
              "#0d0887"
             ],
             [
              0.1111111111111111,
              "#46039f"
             ],
             [
              0.2222222222222222,
              "#7201a8"
             ],
             [
              0.3333333333333333,
              "#9c179e"
             ],
             [
              0.4444444444444444,
              "#bd3786"
             ],
             [
              0.5555555555555556,
              "#d8576b"
             ],
             [
              0.6666666666666666,
              "#ed7953"
             ],
             [
              0.7777777777777778,
              "#fb9f3a"
             ],
             [
              0.8888888888888888,
              "#fdca26"
             ],
             [
              1,
              "#f0f921"
             ]
            ],
            "type": "heatmapgl"
           }
          ],
          "histogram": [
           {
            "marker": {
             "colorbar": {
              "outlinewidth": 0,
              "ticks": ""
             }
            },
            "type": "histogram"
           }
          ],
          "histogram2d": [
           {
            "colorbar": {
             "outlinewidth": 0,
             "ticks": ""
            },
            "colorscale": [
             [
              0,
              "#0d0887"
             ],
             [
              0.1111111111111111,
              "#46039f"
             ],
             [
              0.2222222222222222,
              "#7201a8"
             ],
             [
              0.3333333333333333,
              "#9c179e"
             ],
             [
              0.4444444444444444,
              "#bd3786"
             ],
             [
              0.5555555555555556,
              "#d8576b"
             ],
             [
              0.6666666666666666,
              "#ed7953"
             ],
             [
              0.7777777777777778,
              "#fb9f3a"
             ],
             [
              0.8888888888888888,
              "#fdca26"
             ],
             [
              1,
              "#f0f921"
             ]
            ],
            "type": "histogram2d"
           }
          ],
          "histogram2dcontour": [
           {
            "colorbar": {
             "outlinewidth": 0,
             "ticks": ""
            },
            "colorscale": [
             [
              0,
              "#0d0887"
             ],
             [
              0.1111111111111111,
              "#46039f"
             ],
             [
              0.2222222222222222,
              "#7201a8"
             ],
             [
              0.3333333333333333,
              "#9c179e"
             ],
             [
              0.4444444444444444,
              "#bd3786"
             ],
             [
              0.5555555555555556,
              "#d8576b"
             ],
             [
              0.6666666666666666,
              "#ed7953"
             ],
             [
              0.7777777777777778,
              "#fb9f3a"
             ],
             [
              0.8888888888888888,
              "#fdca26"
             ],
             [
              1,
              "#f0f921"
             ]
            ],
            "type": "histogram2dcontour"
           }
          ],
          "mesh3d": [
           {
            "colorbar": {
             "outlinewidth": 0,
             "ticks": ""
            },
            "type": "mesh3d"
           }
          ],
          "parcoords": [
           {
            "line": {
             "colorbar": {
              "outlinewidth": 0,
              "ticks": ""
             }
            },
            "type": "parcoords"
           }
          ],
          "pie": [
           {
            "automargin": true,
            "type": "pie"
           }
          ],
          "scatter": [
           {
            "marker": {
             "colorbar": {
              "outlinewidth": 0,
              "ticks": ""
             }
            },
            "type": "scatter"
           }
          ],
          "scatter3d": [
           {
            "line": {
             "colorbar": {
              "outlinewidth": 0,
              "ticks": ""
             }
            },
            "marker": {
             "colorbar": {
              "outlinewidth": 0,
              "ticks": ""
             }
            },
            "type": "scatter3d"
           }
          ],
          "scattercarpet": [
           {
            "marker": {
             "colorbar": {
              "outlinewidth": 0,
              "ticks": ""
             }
            },
            "type": "scattercarpet"
           }
          ],
          "scattergeo": [
           {
            "marker": {
             "colorbar": {
              "outlinewidth": 0,
              "ticks": ""
             }
            },
            "type": "scattergeo"
           }
          ],
          "scattergl": [
           {
            "marker": {
             "colorbar": {
              "outlinewidth": 0,
              "ticks": ""
             }
            },
            "type": "scattergl"
           }
          ],
          "scattermapbox": [
           {
            "marker": {
             "colorbar": {
              "outlinewidth": 0,
              "ticks": ""
             }
            },
            "type": "scattermapbox"
           }
          ],
          "scatterpolar": [
           {
            "marker": {
             "colorbar": {
              "outlinewidth": 0,
              "ticks": ""
             }
            },
            "type": "scatterpolar"
           }
          ],
          "scatterpolargl": [
           {
            "marker": {
             "colorbar": {
              "outlinewidth": 0,
              "ticks": ""
             }
            },
            "type": "scatterpolargl"
           }
          ],
          "scatterternary": [
           {
            "marker": {
             "colorbar": {
              "outlinewidth": 0,
              "ticks": ""
             }
            },
            "type": "scatterternary"
           }
          ],
          "surface": [
           {
            "colorbar": {
             "outlinewidth": 0,
             "ticks": ""
            },
            "colorscale": [
             [
              0,
              "#0d0887"
             ],
             [
              0.1111111111111111,
              "#46039f"
             ],
             [
              0.2222222222222222,
              "#7201a8"
             ],
             [
              0.3333333333333333,
              "#9c179e"
             ],
             [
              0.4444444444444444,
              "#bd3786"
             ],
             [
              0.5555555555555556,
              "#d8576b"
             ],
             [
              0.6666666666666666,
              "#ed7953"
             ],
             [
              0.7777777777777778,
              "#fb9f3a"
             ],
             [
              0.8888888888888888,
              "#fdca26"
             ],
             [
              1,
              "#f0f921"
             ]
            ],
            "type": "surface"
           }
          ],
          "table": [
           {
            "cells": {
             "fill": {
              "color": "#EBF0F8"
             },
             "line": {
              "color": "white"
             }
            },
            "header": {
             "fill": {
              "color": "#C8D4E3"
             },
             "line": {
              "color": "white"
             }
            },
            "type": "table"
           }
          ]
         },
         "layout": {
          "annotationdefaults": {
           "arrowcolor": "#2a3f5f",
           "arrowhead": 0,
           "arrowwidth": 1
          },
          "autotypenumbers": "strict",
          "coloraxis": {
           "colorbar": {
            "outlinewidth": 0,
            "ticks": ""
           }
          },
          "colorscale": {
           "diverging": [
            [
             0,
             "#8e0152"
            ],
            [
             0.1,
             "#c51b7d"
            ],
            [
             0.2,
             "#de77ae"
            ],
            [
             0.3,
             "#f1b6da"
            ],
            [
             0.4,
             "#fde0ef"
            ],
            [
             0.5,
             "#f7f7f7"
            ],
            [
             0.6,
             "#e6f5d0"
            ],
            [
             0.7,
             "#b8e186"
            ],
            [
             0.8,
             "#7fbc41"
            ],
            [
             0.9,
             "#4d9221"
            ],
            [
             1,
             "#276419"
            ]
           ],
           "sequential": [
            [
             0,
             "#0d0887"
            ],
            [
             0.1111111111111111,
             "#46039f"
            ],
            [
             0.2222222222222222,
             "#7201a8"
            ],
            [
             0.3333333333333333,
             "#9c179e"
            ],
            [
             0.4444444444444444,
             "#bd3786"
            ],
            [
             0.5555555555555556,
             "#d8576b"
            ],
            [
             0.6666666666666666,
             "#ed7953"
            ],
            [
             0.7777777777777778,
             "#fb9f3a"
            ],
            [
             0.8888888888888888,
             "#fdca26"
            ],
            [
             1,
             "#f0f921"
            ]
           ],
           "sequentialminus": [
            [
             0,
             "#0d0887"
            ],
            [
             0.1111111111111111,
             "#46039f"
            ],
            [
             0.2222222222222222,
             "#7201a8"
            ],
            [
             0.3333333333333333,
             "#9c179e"
            ],
            [
             0.4444444444444444,
             "#bd3786"
            ],
            [
             0.5555555555555556,
             "#d8576b"
            ],
            [
             0.6666666666666666,
             "#ed7953"
            ],
            [
             0.7777777777777778,
             "#fb9f3a"
            ],
            [
             0.8888888888888888,
             "#fdca26"
            ],
            [
             1,
             "#f0f921"
            ]
           ]
          },
          "colorway": [
           "#636efa",
           "#EF553B",
           "#00cc96",
           "#ab63fa",
           "#FFA15A",
           "#19d3f3",
           "#FF6692",
           "#B6E880",
           "#FF97FF",
           "#FECB52"
          ],
          "font": {
           "color": "#2a3f5f"
          },
          "geo": {
           "bgcolor": "white",
           "lakecolor": "white",
           "landcolor": "#E5ECF6",
           "showlakes": true,
           "showland": true,
           "subunitcolor": "white"
          },
          "hoverlabel": {
           "align": "left"
          },
          "hovermode": "closest",
          "mapbox": {
           "style": "light"
          },
          "paper_bgcolor": "white",
          "plot_bgcolor": "#E5ECF6",
          "polar": {
           "angularaxis": {
            "gridcolor": "white",
            "linecolor": "white",
            "ticks": ""
           },
           "bgcolor": "#E5ECF6",
           "radialaxis": {
            "gridcolor": "white",
            "linecolor": "white",
            "ticks": ""
           }
          },
          "scene": {
           "xaxis": {
            "backgroundcolor": "#E5ECF6",
            "gridcolor": "white",
            "gridwidth": 2,
            "linecolor": "white",
            "showbackground": true,
            "ticks": "",
            "zerolinecolor": "white"
           },
           "yaxis": {
            "backgroundcolor": "#E5ECF6",
            "gridcolor": "white",
            "gridwidth": 2,
            "linecolor": "white",
            "showbackground": true,
            "ticks": "",
            "zerolinecolor": "white"
           },
           "zaxis": {
            "backgroundcolor": "#E5ECF6",
            "gridcolor": "white",
            "gridwidth": 2,
            "linecolor": "white",
            "showbackground": true,
            "ticks": "",
            "zerolinecolor": "white"
           }
          },
          "shapedefaults": {
           "line": {
            "color": "#2a3f5f"
           }
          },
          "ternary": {
           "aaxis": {
            "gridcolor": "white",
            "linecolor": "white",
            "ticks": ""
           },
           "baxis": {
            "gridcolor": "white",
            "linecolor": "white",
            "ticks": ""
           },
           "bgcolor": "#E5ECF6",
           "caxis": {
            "gridcolor": "white",
            "linecolor": "white",
            "ticks": ""
           }
          },
          "title": {
           "x": 0.05
          },
          "xaxis": {
           "automargin": true,
           "gridcolor": "white",
           "linecolor": "white",
           "ticks": "",
           "title": {
            "standoff": 15
           },
           "zerolinecolor": "white",
           "zerolinewidth": 2
          },
          "yaxis": {
           "automargin": true,
           "gridcolor": "white",
           "linecolor": "white",
           "ticks": "",
           "title": {
            "standoff": 15
           },
           "zerolinecolor": "white",
           "zerolinewidth": 2
          }
         }
        },
        "title": {
         "text": "Evolution of Spain's energy production"
        },
        "xaxis": {
         "anchor": "y",
         "domain": [
          0,
          1
         ],
         "title": {
          "text": "index"
         }
        },
        "yaxis": {
         "anchor": "x",
         "domain": [
          0,
          1
         ],
         "title": {
          "text": "value"
         }
        }
       }
      }
     },
     "metadata": {}
    },
    {
     "output_type": "stream",
     "name": "stdout",
     "text": [
      "The file will be stored as \"Spain_energy_production.html\" in Images...\n"
     ]
    }
   ],
   "source": [
    "%run \"F:\\Python\\My_Git\\Energy_Project\\Programs\\df_plotter.py\""
   ]
  },
  {
   "cell_type": "code",
   "execution_count": null,
   "metadata": {},
   "outputs": [],
   "source": []
  }
 ]
}