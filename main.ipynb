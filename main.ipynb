{
 "metadata": {
  "language_info": {
   "codemirror_mode": {
    "name": "ipython",
    "version": 3
   },
   "file_extension": ".py",
   "mimetype": "text/x-python",
   "name": "python",
   "nbconvert_exporter": "python",
   "pygments_lexer": "ipython3",
   "version": "3.9.2"
  },
  "orig_nbformat": 2,
  "kernelspec": {
   "name": "python392jvsc74a57bd0fa281aee82f4477ae52abf752de28cd069eade5886616c2da4ed23d36079b5d2",
   "display_name": "Python 3.9.2 64-bit"
  },
  "metadata": {
   "interpreter": {
    "hash": "fa281aee82f4477ae52abf752de28cd069eade5886616c2da4ed23d36079b5d2"
   }
  }
 },
 "nbformat": 4,
 "nbformat_minor": 2,
 "cells": [
  {
   "source": [
    "# Project Energy\n",
    "This project is a short project that incorporates Exploratory Data Analysis (EDA) and Machine Learning. Its aim is to analize the evolution of coal, hydro electric energy and nuclear energy production in relation to the globe. From 1985 up to the present day. And to predict the use of nuclear power using Machine Learning (ML).\n",
    "\n",
    "As a secondary objective this project should be able to function as independantly as posible, requiring a minimum input from the data scientist to work. As such, the settings.json file acts as a config file, allowing the user to introduce as many dataframes as desired, set the names for storing and customizing the parent directory route.\n",
    "\n",
    "## Estructure\n",
    "The directory structure for this project is as follows:\n",
    "\n",
    "    - Energy_Project\n",
    "        * main.ipynb: The current file. It contains the instructions, requirements and graphs of the project.\n",
    "\n",
    "        - Programs\n",
    "            * df_cleaner.py: cleans the data, plots it and sclices it for ML, using the src folder\n",
    "            \n",
    "            - src\n",
    "                * modeler.py: cotains the class for ML\n",
    "                * settings_reader.py: reads \"settings.json\"\n",
    "                * settings.json: this json file contains the sum of all customizable parameters of the program. The rest is automatic\n",
    "                * titan_class.py: contains the class for EDA\n",
    "                * use_plotly.py: contains plotly functions for interactive graphs\n",
    "\n",
    "\n",
    "## Requirements\n",
    "Version listed or higher:\n",
    "\n",
    "    numpy==1.20.1\n",
    "    pandas==1.2.3\n",
    "    plotly==4.14.3\n",
    "    plotly-express==0.4.1\n",
    "    scikit-learn==0.24.1\n",
    "    scipy==1.6.2\n",
    "    seaborn==0.11.1\n",
    "    six==1.15.0\n",
    "    sklearn==0.0\n",
    "    statsmodels==0.12.2\n",
    "    xgboost==1.3.3"
   ],
   "cell_type": "markdown",
   "metadata": {}
  }
 ]
}